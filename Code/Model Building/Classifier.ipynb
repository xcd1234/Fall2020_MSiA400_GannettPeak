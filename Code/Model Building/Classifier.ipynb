{
 "cells": [
  {
   "cell_type": "markdown",
   "metadata": {},
   "source": [
    "# Gannett Peak Classifier Model and Predictions"
   ]
  },
  {
   "cell_type": "code",
   "execution_count": 1,
   "metadata": {},
   "outputs": [],
   "source": [
    "import pandas as pd\n",
    "import matplotlib.pyplot as plt\n",
    "import numpy as np\n",
    "from sklearn import svm\n",
    "from sklearn.model_selection import train_test_split\n",
    "from sklearn import preprocessing\n",
    "from sklearn.metrics import confusion_matrix\n",
    "from sklearn.model_selection import cross_val_score\n",
    "import pickle\n",
    "from datetime import datetime"
   ]
  },
  {
   "cell_type": "code",
   "execution_count": 2,
   "metadata": {},
   "outputs": [
    {
     "name": "stderr",
     "output_type": "stream",
     "text": [
      "/opt/anaconda3/lib/python3.6/site-packages/sklearn/ensemble/weight_boosting.py:29: DeprecationWarning: numpy.core.umath_tests is an internal NumPy module and should not be imported. It will be removed in a future NumPy release.\n",
      "  from numpy.core.umath_tests import inner1d\n"
     ]
    }
   ],
   "source": [
    "from sklearn.ensemble import RandomForestClassifier\n",
    "from dataPrep import *"
   ]
  },
  {
   "cell_type": "code",
   "execution_count": 3,
   "metadata": {},
   "outputs": [],
   "source": [
    "from IPython.display import HTML\n",
    "import base64 "
   ]
  },
  {
   "cell_type": "markdown",
   "metadata": {},
   "source": [
    "## Data for 2 months lagging"
   ]
  },
  {
   "cell_type": "code",
   "execution_count": 4,
   "metadata": {},
   "outputs": [],
   "source": [
    "dOb = dataPrep()\n",
    "X,y,Xtest,ytest = dOb.dataClass(2,False)"
   ]
  },
  {
   "cell_type": "markdown",
   "metadata": {},
   "source": [
    "## Random Forest Model, based on tuned parameters"
   ]
  },
  {
   "cell_type": "code",
   "execution_count": 5,
   "metadata": {},
   "outputs": [],
   "source": [
    "model = RandomForestClassifier(n_estimators=1000,\n",
    "                                      min_samples_split=10,\n",
    "                                      min_samples_leaf=2,\n",
    "                                      max_features = None,\n",
    "                                      max_depth = 10,\n",
    "                                      bootstrap = True)"
   ]
  },
  {
   "cell_type": "code",
   "execution_count": 6,
   "metadata": {},
   "outputs": [
    {
     "data": {
      "text/plain": [
       "RandomForestClassifier(bootstrap=True, class_weight=None, criterion='gini',\n",
       "            max_depth=10, max_features=None, max_leaf_nodes=None,\n",
       "            min_impurity_decrease=0.0, min_impurity_split=None,\n",
       "            min_samples_leaf=2, min_samples_split=10,\n",
       "            min_weight_fraction_leaf=0.0, n_estimators=1000, n_jobs=1,\n",
       "            oob_score=False, random_state=None, verbose=0,\n",
       "            warm_start=False)"
      ]
     },
     "execution_count": 6,
     "metadata": {},
     "output_type": "execute_result"
    }
   ],
   "source": [
    "model.fit(X,y)"
   ]
  },
  {
   "cell_type": "markdown",
   "metadata": {},
   "source": [
    "### Save model"
   ]
  },
  {
   "cell_type": "code",
   "execution_count": 7,
   "metadata": {},
   "outputs": [],
   "source": [
    "filename = 'RF1.sav'\n",
    "pickle.dump(model, open(filename, 'wb'))"
   ]
  },
  {
   "cell_type": "markdown",
   "metadata": {},
   "source": [
    "## Evaluate Model"
   ]
  },
  {
   "cell_type": "code",
   "execution_count": 5,
   "metadata": {},
   "outputs": [],
   "source": [
    "loadmodel = pickle.load(open(\"RF1.sav\", 'rb'))"
   ]
  },
  {
   "cell_type": "code",
   "execution_count": 11,
   "metadata": {},
   "outputs": [],
   "source": [
    "Xtest2 = Xtest.loc[:,Xtest.columns != 'Date']"
   ]
  },
  {
   "cell_type": "code",
   "execution_count": 13,
   "metadata": {},
   "outputs": [
    {
     "name": "stdout",
     "output_type": "stream",
     "text": [
      "[[ 958 4064]\n",
      " [1085 5068]]\n",
      "0.5392393736017898\n"
     ]
    }
   ],
   "source": [
    "y_pred=loadmodel.predict(Xtest2)\n",
    "print(confusion_matrix(ytest, y_pred))\n",
    "print(loadmodel.score(Xtest2, ytest))"
   ]
  },
  {
   "cell_type": "markdown",
   "metadata": {},
   "source": [
    "#### Model did not perform to the same standard as validation, about a 3% to 4% drop in accuracy for test set"
   ]
  },
  {
   "cell_type": "markdown",
   "metadata": {},
   "source": [
    "## Feature Importance"
   ]
  },
  {
   "cell_type": "code",
   "execution_count": 15,
   "metadata": {},
   "outputs": [
    {
     "data": {
      "text/plain": [
       "Text(0.5,0,'Random Forest Feature Importance')"
      ]
     },
     "execution_count": 15,
     "metadata": {},
     "output_type": "execute_result"
    },
    {
     "data": {
      "image/png": "[encoded data removed]",
      "text/plain": [
       "<Figure size 432x288 with 1 Axes>"
      ]
     },
     "metadata": {
      "needs_background": "light"
     },
     "output_type": "display_data"
    }
   ],
   "source": [
    "plt.barh(X.columns[:7], loadmodel.feature_importances_[:7])\n",
    "plt.xlabel(\"Random Forest Feature Importance\")"
   ]
  },
  {
   "cell_type": "markdown",
   "metadata": {},
   "source": [
    "#### Looking at features common to all companies, excluding dummy variables, the job posting change, average posting duration, and change in average salary were of relatively high importance in determining the company performance."
   ]
  },
  {
   "cell_type": "markdown",
   "metadata": {},
   "source": [
    "## Create Output File of Predictions"
   ]
  },
  {
   "cell_type": "code",
   "execution_count": 14,
   "metadata": {},
   "outputs": [],
   "source": [
    "tickCols = [col for col in Xtest if col.startswith('Ticker')]"
   ]
  },
  {
   "cell_type": "code",
   "execution_count": 15,
   "metadata": {},
   "outputs": [],
   "source": [
    "columns = ['Ticker','2019-08','2019-09','2019-10','2019-11','2019-12','2020-01']"
   ]
  },
  {
   "cell_type": "code",
   "execution_count": 16,
   "metadata": {},
   "outputs": [],
   "source": [
    "inDates = ['2019-06','2019-07','2019-08','2019-09','2019-10','2019-11']"
   ]
  },
  {
   "cell_type": "code",
   "execution_count": 27,
   "metadata": {},
   "outputs": [],
   "source": [
    "def getTicker(row):\n",
    "    '''\n",
    "    For given row in Xtest, get the ticker as String\n",
    "    '''\n",
    "    tick = 'A'\n",
    "    for col in tickCols:\n",
    "        if row[col] == 1:\n",
    "            tick = col[7:]\n",
    "    return tick\n",
    "\n",
    "def getDate(row):\n",
    "    '''\n",
    "    For given row in Xtest, get the date as String\n",
    "    '''\n",
    "    for i in range(len(inDates)):\n",
    "        if row['Date'] == inDates[i]:\n",
    "            return columns[i+1]\n",
    "\n",
    "def appRow(outdf,ticker,date,ypi):\n",
    "    '''\n",
    "    Appends a row to output dataframe based on prediction, ticker, and date \n",
    "    '''\n",
    "    if ypi == 1:\n",
    "        if date == '2019-08':\n",
    "            outdf = outdf.append(\n",
    "                {\n",
    "                    \"Ticker\":ticker,\n",
    "                    '2019-08': 1,\n",
    "                    '2019-09': 0,\n",
    "                    '2019-10': 0,\n",
    "                    '2019-11': 0,\n",
    "                    '2019-12': 0,\n",
    "                    '2020-01': 0\n",
    "                }, ignore_index=True\n",
    "            )\n",
    "        elif date == '2019-09':\n",
    "            outdf = outdf.append(\n",
    "                {\n",
    "                    \"Ticker\":ticker,\n",
    "                    '2019-08': 0,\n",
    "                    '2019-09': 1,\n",
    "                    '2019-10': 0,\n",
    "                    '2019-11': 0,\n",
    "                    '2019-12': 0,\n",
    "                    '2020-01': 0\n",
    "                }, ignore_index=True\n",
    "            )\n",
    "        elif date == '2019-10':\n",
    "            outdf = outdf.append(\n",
    "                {\n",
    "                    \"Ticker\":ticker,\n",
    "                    '2019-08': 0,\n",
    "                    '2019-09': 0,\n",
    "                    '2019-10': 1,\n",
    "                    '2019-11': 0,\n",
    "                    '2019-12': 0,\n",
    "                    '2020-01': 0\n",
    "                }, ignore_index=True\n",
    "            )\n",
    "        elif date == '2019-11':\n",
    "            outdf = outdf.append(\n",
    "                {\n",
    "                    \"Ticker\":ticker,\n",
    "                    '2019-08': 0,\n",
    "                    '2019-09': 0,\n",
    "                    '2019-10': 0,\n",
    "                    '2019-11': 1,\n",
    "                    '2019-12': 0,\n",
    "                    '2020-01': 0\n",
    "                }, ignore_index=True\n",
    "            )\n",
    "        elif date == '2019-12':\n",
    "            outdf = outdf.append(\n",
    "                {\n",
    "                    \"Ticker\":ticker,\n",
    "                    '2019-08': 0,\n",
    "                    '2019-09': 0,\n",
    "                    '2019-10': 0,\n",
    "                    '2019-11': 0,\n",
    "                    '2019-12': 1,\n",
    "                    '2020-01': 0\n",
    "                }, ignore_index=True\n",
    "            )\n",
    "        elif date == '2020-01':\n",
    "            outdf = outdf.append(\n",
    "                {\n",
    "                    \"Ticker\":ticker,\n",
    "                    '2019-08': 0,\n",
    "                    '2019-09': 0,\n",
    "                    '2019-10': 0,\n",
    "                    '2019-11': 0,\n",
    "                    '2019-12': 0,\n",
    "                    '2020-01': 1\n",
    "                }, ignore_index=True\n",
    "            )\n",
    "    else:\n",
    "        outdf = outdf.append(\n",
    "                {\n",
    "                    \"Ticker\":ticker,\n",
    "                    '2019-08': 0,\n",
    "                    '2019-09': 0,\n",
    "                    '2019-10': 0,\n",
    "                    '2019-11': 0,\n",
    "                    '2019-12': 0,\n",
    "                    '2020-01': 0\n",
    "                }, ignore_index=True\n",
    "            )\n",
    "    \n",
    "    return outdf"
   ]
  },
  {
   "cell_type": "code",
   "execution_count": 19,
   "metadata": {},
   "outputs": [],
   "source": [
    "outdf = pd.DataFrame(columns = columns)"
   ]
  },
  {
   "cell_type": "code",
   "execution_count": 20,
   "metadata": {},
   "outputs": [
    {
     "data": {
      "text/html": [
       "<div>\n",
       "<style scoped>\n",
       "    .dataframe tbody tr th:only-of-type {\n",
       "        vertical-align: middle;\n",
       "    }\n",
       "\n",
       "    .dataframe tbody tr th {\n",
       "        vertical-align: top;\n",
       "    }\n",
       "\n",
       "    .dataframe thead th {\n",
       "        text-align: right;\n",
       "    }\n",
       "</style>\n",
       "<table border=\"1\" class=\"dataframe\">\n",
       "  <thead>\n",
       "    <tr style=\"text-align: right;\">\n",
       "      <th></th>\n",
       "      <th>Ticker</th>\n",
       "      <th>2019-08</th>\n",
       "      <th>2019-09</th>\n",
       "      <th>2019-10</th>\n",
       "      <th>2019-11</th>\n",
       "      <th>2019-12</th>\n",
       "      <th>2020-01</th>\n",
       "    </tr>\n",
       "  </thead>\n",
       "  <tbody>\n",
       "  </tbody>\n",
       "</table>\n",
       "</div>"
      ],
      "text/plain": [
       "Empty DataFrame\n",
       "Columns: [Ticker, 2019-08, 2019-09, 2019-10, 2019-11, 2019-12, 2020-01]\n",
       "Index: []"
      ]
     },
     "execution_count": 20,
     "metadata": {},
     "output_type": "execute_result"
    }
   ],
   "source": [
    "outdf"
   ]
  },
  {
   "cell_type": "code",
   "execution_count": 21,
   "metadata": {},
   "outputs": [],
   "source": [
    "for index, row in Xtest.iterrows():\n",
    "    date = row.index.isin(['Date'])\n",
    "    row2 = row.loc[~date]\n",
    "    ypi = loadmodel.predict(row2.values.reshape(1,-1))[0]\n",
    "    ticker = getTicker(row)\n",
    "    date = getDate(row)\n",
    "    outdf = appRow(outdf,ticker,date,ypi)"
   ]
  },
  {
   "cell_type": "code",
   "execution_count": 23,
   "metadata": {},
   "outputs": [],
   "source": [
    "final = outdf.groupby(['Ticker']).max()"
   ]
  },
  {
   "cell_type": "code",
   "execution_count": 25,
   "metadata": {},
   "outputs": [],
   "source": [
    "final.to_csv(\"RF_Prediction2.csv\")"
   ]
  },
  {
   "cell_type": "markdown",
   "metadata": {},
   "source": [
    "## Export CSV From JupyterLab"
   ]
  },
  {
   "cell_type": "code",
   "execution_count": 26,
   "metadata": {},
   "outputs": [
    {
     "data": {
      "text/html": [
       "<a download=\"data.csv\" href=\"data:text/csv;base64,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\" target=\"_blank\">Download CSV file</a>"
      ],
      "text/plain": [
       "<IPython.core.display.HTML object>"
      ]
     },
     "execution_count": 26,
     "metadata": {},
     "output_type": "execute_result"
    }
   ],
   "source": [
    "def create_download_link( df, title = \"Download CSV file\", filename = \"data.csv\"):  \n",
    "    csv = df.to_csv(index =True)\n",
    "    b64 = base64.b64encode(csv.encode())\n",
    "    payload = b64.decode()\n",
    "    html = '<a download=\"{filename}\" href=\"data:text/csv;base64,{payload}\" target=\"_blank\">{title}</a>'\n",
    "    html = html.format(payload=payload,title=title,filename=filename)\n",
    "    return HTML(html)\n",
    "\n",
    "create_download_link(final)"
   ]
  },
  {
   "cell_type": "markdown",
   "metadata": {},
   "source": [
    "Link to source of above code, https://gist.github.com/HaiyangXu/244ae64d93c9142197791014f2a92503."
   ]
  }
 ],
 "metadata": {
  "kernelspec": {
   "display_name": "Python 3",
   "language": "python",
   "name": "python3"
  },
  "language_info": {
   "codemirror_mode": {
    "name": "ipython",
    "version": 3
   },
   "file_extension": ".py",
   "mimetype": "text/x-python",
   "name": "python",
   "nbconvert_exporter": "python",
   "pygments_lexer": "ipython3",
   "version": "3.7.4"
  }
 },
 "nbformat": 4,
 "nbformat_minor": 2
}
